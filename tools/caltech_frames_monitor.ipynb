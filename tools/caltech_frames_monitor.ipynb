{
 "cells": [
  {
   "cell_type": "code",
   "execution_count": null,
   "metadata": {
    "collapsed": true
   },
   "outputs": [],
   "source": [
    "\n",
    "\n",
    "import matplotlib.pyplot as plt\n",
    "import numpy as np\n",
    "import os, sys, cv2\n",
    "\n",
    "import json\n",
    "%matplotlib inline\n"
   ]
  },
  {
   "cell_type": "code",
   "execution_count": null,
   "metadata": {
    "collapsed": false
   },
   "outputs": [],
   "source": [
    "label_set = {'people', 'person', 'person-fa', 'person?'}\n",
    "gt_annotation = json.load(open(\"/root/data/caltech-pedestrian-dataset-converter/data/annotations.json\"))\n",
    "\n",
    "def get_frames_by_label(gt_annotation, label):\n",
    "    target_frames = []\n",
    "    for set_num, set_annotation in gt_annotation.items():\n",
    "        for v_num, v_annotation in set_annotation.items():\n",
    "            for frame_num, frame in v_annotation[\"frames\"].items():\n",
    "                for box in frame:\n",
    "                    if box[\"lbl\"] == label:\n",
    "                        frame_name = \"{}_{}_{}.jpg\".format(set_num, v_num, frame_num)\n",
    "                        target_frames.append((frame_name, frame))\n",
    "                        break\n",
    "\n",
    "    \n",
    "    return target_frames\n",
    "\n",
    "\n",
    "def render_frame(frame_name, boxes):\n",
    "    images_path = \"/root/data/caltech-pedestrian-dataset-converter/data/images\"\n",
    "    frame_path = os.path.join(images_path, frame_name)\n",
    "    im = cv2.imread(frame_path)[:, :, (2, 1, 0)]\n",
    "    fig, ax = plt.subplots(figsize=(12, 12))\n",
    "    ax.imshow(im, aspect='equal')\n",
    "    \n",
    "    label_to_color = {\"people\": \"red\", \"person\": \"green\", \"person-fa\": \"blue\", \"person?\": \"yellow\"}\n",
    "    \n",
    "    for box in boxes:\n",
    "        x1 = box['pos'][0]\n",
    "        y1 = box['pos'][1]\n",
    "        width = box['pos'][2]\n",
    "        length = box['pos'][3]\n",
    "        label = box['lbl']\n",
    "        color = label_to_color[label]\n",
    "        rectangle = plt.Rectangle((x1,y1), width,length, fill=False, edgecolor=color, linewidth=3.5)\n",
    "        ax.add_patch(rectangle)\n",
    "        ax.text(x1, y1 - 2, label,\n",
    "                bbox=dict(facecolor=color, alpha=0.5),\n",
    "                fontsize=14, color='white')\n",
    "        \n",
    "        \n",
    "        \n",
    "    \n",
    "    ax.set_title(frame_name)  \n",
    "    plt.axis('off')\n",
    "    plt.tight_layout()\n",
    "    plt.draw()\n",
    "        \n",
    "    \n",
    "    \n",
    "    "
   ]
  },
  {
   "cell_type": "code",
   "execution_count": null,
   "metadata": {
    "collapsed": false
   },
   "outputs": [],
   "source": [
    "label_2_frame_counts = dict([(label, len(get_frames_by_label(gt_annotation, label))) for label in label_set])\n",
    "label_2_frame_counts"
   ]
  },
  {
   "cell_type": "code",
   "execution_count": null,
   "metadata": {
    "collapsed": false
   },
   "outputs": [],
   "source": [
    "person_fa = get_frames_by_label(gt_annotation, \"person-fa\")\n"
   ]
  },
  {
   "cell_type": "code",
   "execution_count": null,
   "metadata": {
    "collapsed": false
   },
   "outputs": [],
   "source": [
    "for person_fa in get_frames_by_label(gt_annotation, \"person-fa\")[::120]:\n",
    "    frame_name = person_fa[0]\n",
    "    boxes = person_fa[1]\n",
    "    render_frame(frame_name, boxes)"
   ]
  },
  {
   "cell_type": "code",
   "execution_count": null,
   "metadata": {
    "collapsed": false
   },
   "outputs": [],
   "source": [
    "for person_fa in get_frames_by_label(gt_annotation, \"person?\")[::120][:10]:\n",
    "    frame_name = person_fa[0]\n",
    "    boxes = person_fa[1]\n",
    "    render_frame(frame_name, boxes)"
   ]
  },
  {
   "cell_type": "code",
   "execution_count": null,
   "metadata": {
    "collapsed": true
   },
   "outputs": [],
   "source": []
  }
 ],
 "metadata": {
  "kernelspec": {
   "display_name": "Python 2",
   "language": "python",
   "name": "python2"
  },
  "language_info": {
   "codemirror_mode": {
    "name": "ipython",
    "version": 2
   },
   "file_extension": ".py",
   "mimetype": "text/x-python",
   "name": "python",
   "nbconvert_exporter": "python",
   "pygments_lexer": "ipython2",
   "version": "2.7.6"
  }
 },
 "nbformat": 4,
 "nbformat_minor": 0
}
